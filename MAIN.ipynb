{
 "cells": [
  {
   "cell_type": "code",
   "execution_count": 1,
   "id": "8c6252a0",
   "metadata": {},
   "outputs": [
    {
     "name": "stderr",
     "output_type": "stream",
     "text": [
      "\n",
      "    Error 259 for command:\n",
      "        play alarm.wav wait\n",
      "    The driver cannot recognize the specified command parameter.\n"
     ]
    },
    {
     "name": "stdout",
     "output_type": "stream",
     "text": [
      "norm== 0.0\n",
      "norm== 2644.1925\n"
     ]
    },
    {
     "name": "stderr",
     "output_type": "stream",
     "text": [
      "\n",
      "    Error 263 for command:\n",
      "        close alarm.wav\n",
      "    The specified device is not open or is not recognized by MCI.\n",
      "Failed to close the file: alarm.wav\n",
      "Exception in Tkinter callback\n",
      "Traceback (most recent call last):\n",
      "  File \"C:\\Users\\Admin\\anaconda3\\lib\\tkinter\\__init__.py\", line 1921, in __call__\n",
      "    return self.func(*args)\n",
      "  File \"C:\\Users\\Admin\\AppData\\Local\\Temp\\ipykernel_16020\\942699441.py\", line 42, in monitorprocess\n",
      "    dt.process()\n",
      "  File \"C:\\Users\\Admin\\Desktop\\Coma-Patient-monitoring\\Detect.py\", line 304, in process\n",
      "    playsound(\"alarm.wav\")\n",
      "  File \"C:\\Users\\Admin\\anaconda3\\lib\\site-packages\\playsound.py\", line 73, in _playsoundWin\n",
      "    winCommand(u'play {}{}'.format(sound, ' wait' if block else ''))\n",
      "  File \"C:\\Users\\Admin\\anaconda3\\lib\\site-packages\\playsound.py\", line 64, in winCommand\n",
      "    raise PlaysoundException(exceptionMessage)\n",
      "playsound.PlaysoundException: \n",
      "    Error 259 for command:\n",
      "        play alarm.wav wait\n",
      "    The driver cannot recognize the specified command parameter.\n"
     ]
    }
   ],
   "source": [
    "import tkinter as tk\n",
    "from tkinter import Message ,Text\n",
    "from PIL import Image, ImageTk\n",
    "import pandas as pd\n",
    "import tkinter.ttk as ttk\n",
    "import tkinter.font as font\n",
    "import tkinter.messagebox as tm\n",
    "\n",
    "import tkinter.messagebox as tm\n",
    "\n",
    "import Detect as dt\n",
    "\n",
    "\n",
    "bgcolor=\"#ffe6e6\"\n",
    "bgcolor1=\"#e60000\"\n",
    "fgcolor=\"#660000\"\n",
    "\n",
    "\n",
    "def Home():\n",
    "        global window\n",
    "        \n",
    "        window = tk.Tk()\n",
    "        window.title(\"Coma Patient Real Time Monitoring\")\n",
    "        \n",
    "\n",
    " \n",
    "        window.geometry('1920x1080')\n",
    "        window.configure(background=bgcolor)\n",
    "        #window.attributes('-fullscreen', True)\n",
    "\n",
    "        window.grid_rowconfigure(0, weight=1)\n",
    "        window.grid_columnconfigure(0, weight=1)\n",
    "        \n",
    "\n",
    "        message1 = tk.Label(window, text=\"Coma Patient Real Time Monitoring Using OpenCV\" ,bg=bgcolor  ,fg=fgcolor  ,width=50  ,height=3,font=('times', 30, 'italic bold underline')) \n",
    "        message1.place(x=100, y=20)\n",
    "\n",
    "        \n",
    "\n",
    "       \n",
    "        def monitorprocess():\n",
    "                dt.process()\n",
    "                \n",
    "        browse = tk.Button(window, text=\"Start\", command=monitorprocess  ,fg=fgcolor  ,bg=bgcolor1  ,width=20  ,height=2, activebackground = \"Red\" ,font=('times', 15, ' bold '))\n",
    "        browse.place(x=550, y=350)\n",
    "\n",
    "        quitWindow = tk.Button(window, text=\"Quit\", command=window.destroy  ,fg=fgcolor   ,bg=bgcolor1  ,width=15  ,height=2, activebackground = \"Red\" ,font=('times', 15, ' bold '))\n",
    "        quitWindow.place(x=1060, y=600)\n",
    "\n",
    "        window.mainloop()\n",
    "Home()\n",
    "\n"
   ]
  },
  {
   "cell_type": "code",
   "execution_count": null,
   "id": "b8050f21",
   "metadata": {},
   "outputs": [],
   "source": []
  },
  {
   "cell_type": "code",
   "execution_count": null,
   "id": "1dbb6662",
   "metadata": {},
   "outputs": [],
   "source": []
  }
 ],
 "metadata": {
  "kernelspec": {
   "display_name": "Python 3 (ipykernel)",
   "language": "python",
   "name": "python3"
  },
  "language_info": {
   "codemirror_mode": {
    "name": "ipython",
    "version": 3
   },
   "file_extension": ".py",
   "mimetype": "text/x-python",
   "name": "python",
   "nbconvert_exporter": "python",
   "pygments_lexer": "ipython3",
   "version": "3.10.9"
  }
 },
 "nbformat": 4,
 "nbformat_minor": 5
}
